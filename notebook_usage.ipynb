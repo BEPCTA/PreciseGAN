{
 "cells": [
  {
   "cell_type": "code",
   "execution_count": null,
   "metadata": {
    "collapsed": false,
    "pycharm": {
     "name": "#%%\n"
    }
   },
   "outputs": [],
   "source": [
    "!pip3 install -r requirements.txt\n",
    "!chmod u+x ./get_csv.sh\n",
    "!./get_csv.sh\n",
    "!python3 init_scaler.py --csv_path=csv/mg5_dijet_ht500.ptcl.pt250.nominal.csv\n",
    "!python3 init_data.py"
   ]
  },
  {
   "cell_type": "code",
   "execution_count": null,
   "metadata": {
    "collapsed": true
   },
   "outputs": [],
   "source": [
    "\n",
    "from main import main_train\n",
    "\n",
    "class Args:\n",
    "    def __init__(self):\n",
    "        self.train_data = 'csv/train_mg5_dijet_ht500.ptcl.pt250.nominal.npy'\n",
    "        self.test_data = 'csv/test_mg5_dijet_ht500.ptcl.pt250.nominal.npy'\n",
    "        self.scaler_dump = None\n",
    "        self.preselection = 'pt250'\n",
    "        self.level = 'ptcl'\n",
    "        self.epochs = 5000 \n",
    "        self.batch_size = 32 \n",
    "        self.eval_batch_size = 512\n",
    "        self.learning_rate = 1e-2 \n",
    "        self.training_ratio = 1\n",
    "        self.log_every = 500\n",
    "        self.save_every = 5000\n",
    "        self.architecture = 'cnn'\n",
    "        self.seed = 48\n",
    "        self.gan_noise_size = 128 \n",
    "\n",
    "\n",
    "args = Args()\n",
    "main_train(args)"
   ]
  }
 ],
 "metadata": {
  "kernelspec": {
   "display_name": "Python 3",
   "language": "python",
   "name": "python3"
  },
  "language_info": {
   "codemirror_mode": {
    "name": "ipython",
    "version": 2
   },
   "file_extension": ".py",
   "mimetype": "text/x-python",
   "name": "python",
   "nbconvert_exporter": "python",
   "pygments_lexer": "ipython2",
   "version": "2.7.6"
  },
  "pycharm": {
   "stem_cell": {
    "cell_type": "raw",
    "source": [],
    "metadata": {
     "collapsed": false
    }
   }
  }
 },
 "nbformat": 4,
 "nbformat_minor": 0
}
